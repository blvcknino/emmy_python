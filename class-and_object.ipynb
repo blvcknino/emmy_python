{
 "cells": [
  {
   "cell_type": "code",
   "execution_count": 1,
   "metadata": {},
   "outputs": [],
   "source": [
    "class dog:\n",
    "    attr1 = 'Mamma1'\n",
    "    attr2 = 'Dog'\n",
    "    attr3 = 'Bark'\n",
    "Rocky = dog()    "
   ]
  },
  {
   "cell_type": "code",
   "execution_count": 2,
   "metadata": {},
   "outputs": [
    {
     "data": {
      "text/plain": [
       "'Mamma1'"
      ]
     },
     "execution_count": 2,
     "metadata": {},
     "output_type": "execute_result"
    }
   ],
   "source": [
    "Rocky.attr1"
   ]
  },
  {
   "cell_type": "code",
   "execution_count": 4,
   "metadata": {},
   "outputs": [
    {
     "data": {
      "text/plain": [
       "'Dog'"
      ]
     },
     "execution_count": 4,
     "metadata": {},
     "output_type": "execute_result"
    }
   ],
   "source": [
    "Rocky.attr2"
   ]
  },
  {
   "cell_type": "code",
   "execution_count": 5,
   "metadata": {},
   "outputs": [
    {
     "data": {
      "text/plain": [
       "'Bark'"
      ]
     },
     "execution_count": 5,
     "metadata": {},
     "output_type": "execute_result"
    }
   ],
   "source": [
    "Rocky.attr3"
   ]
  },
  {
   "cell_type": "code",
   "execution_count": null,
   "metadata": {},
   "outputs": [],
   "source": []
  },
  {
   "cell_type": "code",
   "execution_count": 6,
   "metadata": {},
   "outputs": [],
   "source": [
    "class dog:\n",
    "    attr1 = 'Mamma1'\n",
    "    attr2 = 'Dog'\n",
    "    attr3 = 'Bark'\n",
    "    def details(self):\n",
    "        print(f'Rocky is a {self.attr2}')\n",
    "        print(f'Rocky belongs to the kingdom of {self.attr1}')\n",
    "        print(f'one of Rocky\\'s behaviour is that he can {self.attr3}')\n",
    "Rocky = dog() \n"
   ]
  },
  {
   "cell_type": "code",
   "execution_count": 7,
   "metadata": {},
   "outputs": [
    {
     "name": "stdout",
     "output_type": "stream",
     "text": [
      "Rocky is a Dog\n",
      "Rocky belongs to the kingdom of Mamma1\n",
      "one of Rocky's behaviour is that he can Bark\n"
     ]
    }
   ],
   "source": [
    "Rocky.details()"
   ]
  },
  {
   "cell_type": "code",
   "execution_count": 18,
   "metadata": {},
   "outputs": [
    {
     "name": "stdin",
     "output_type": "stream",
     "text": [
      "please enter your name Charles\n",
      "enter your gender Male\n",
      "please provide your age 20\n",
      "please enter your height in meters 1.72\n",
      "please enter your weight in kg 77\n"
     ]
    },
    {
     "name": "stdout",
     "output_type": "stream",
     "text": [
      "name:Charles\n",
      "gender:Male\n",
      "age:20\n",
      "height:1.72\n",
      "weight:77.0\n",
      "\n",
      "None\n",
      "\n",
      "\n",
      "one of my behaviour is, i can talk\n",
      "None\n",
      "\n",
      "\n",
      "congratulations you are eligible to vote\n",
      "None\n"
     ]
    }
   ],
   "source": [
    "class person:\n",
    "    def __init__(self,name,gender,age,height,weight): \n",
    "        self.name = name\n",
    "        self.gender = gender\n",
    "        self.age = age\n",
    "        self.height = height\n",
    "        self.weight = weight\n",
    "    def details(self):\n",
    "        print(f'''name:{self.name}\n",
    "gender:{self.gender}\n",
    "age:{self.age}\n",
    "height:{self.height}\n",
    "weight:{self.weight}\n",
    "''')\n",
    "    def talk(self):\n",
    "        print(f'one of my behaviour is, i can talk')\n",
    "    def vote(self):\n",
    "        if self.age >=18:\n",
    "              print('congratulations you are eligible to vote')\n",
    "        else:\n",
    "              print('you are not eligible to vote')\n",
    "firstperson = person(input('please enter your name'),input('enter your gender'),int(input('please provide your age')),float(input('please enter your height in meters')),float(input('please enter your weight in kg')))\n",
    "print(firstperson.details())\n",
    "print('\\n')\n",
    "print(firstperson.talk())\n",
    "print('\\n')\n",
    "print(firstperson.vote())"
   ]
  },
  {
   "cell_type": "code",
   "execution_count": null,
   "metadata": {},
   "outputs": [],
   "source": []
  },
  {
   "cell_type": "code",
   "execution_count": 22,
   "metadata": {},
   "outputs": [
    {
     "name": "stdin",
     "output_type": "stream",
     "text": [
      "please enter your name Charles\n",
      "enter your gender Male\n",
      "please provide your age 20\n",
      "please enter your height in meters 1.76\n",
      "please enter your weight in kg 77\n"
     ]
    },
    {
     "name": "stdout",
     "output_type": "stream",
     "text": [
      "name:Charles\n",
      "gender:Male\n",
      "age:20\n",
      "height:1.76\n",
      "weight:77.0\n",
      "\n",
      "None\n",
      "\n",
      "\n",
      "one of my behaviour is, i can talk\n",
      "None\n",
      "\n",
      "\n",
      "congratulations you are eligible to vote\n",
      "None\n",
      "you are healthy, keep up with the diet\n",
      "None\n"
     ]
    }
   ],
   "source": [
    "class person:\n",
    "    def __init__(self,name,gender,age,height,weight): \n",
    "        self.name = name\n",
    "        self.gender = gender\n",
    "        self.age = age\n",
    "        self.height = height\n",
    "        self.weight = weight\n",
    "    def details(self):\n",
    "        print(f'''name:{self.name}\n",
    "gender:{self.gender}\n",
    "age:{self.age}\n",
    "height:{self.height}\n",
    "weight:{self.weight}\n",
    "''')\n",
    "    def talk(self):\n",
    "        print(f'one of my behaviour is, i can talk')\n",
    "    def vote(self):\n",
    "        if self.age >=18:\n",
    "              print('congratulations you are eligible to vote')\n",
    "        else:\n",
    "              print('you are not eligible to vote')\n",
    "    def bmi(self):\n",
    "        bmi_index = self.weight/self.height**2\n",
    "        if bmi_index <16:\n",
    "            print('severely underweight, see a doctor')\n",
    "        elif bmi_index >= 16 and bmi_index < 18.5:\n",
    "            print('underweight, improve your diet')\n",
    "        elif bmi_index >= 18.5 and bmi_index < 25:\n",
    "            print('you are healthy, keep up with the diet')\n",
    "        elif bmi_index >= 25 and bmi_index <30:\n",
    "            print('you are overweight, see a doctor')\n",
    "        elif bmi_index > 30:\n",
    "            print('you are severly overweighted, see a ddoctor urgently')\n",
    "        else:\n",
    "            print('see a doctor')\n",
    "firstperson = person(input('please enter your name'),input('enter your gender'),int(input('please provide your age')),float(input('please enter your height in meters')),float(input('please enter your weight in kg')))\n",
    "print(firstperson.details())\n",
    "print('\\n')\n",
    "print(firstperson.talk())\n",
    "print('\\n')\n",
    "print(firstperson.vote())\n",
    "print(firstperson.bmi())"
   ]
  },
  {
   "cell_type": "code",
   "execution_count": null,
   "metadata": {},
   "outputs": [],
   "source": []
  },
  {
   "cell_type": "code",
   "execution_count": 24,
   "metadata": {},
   "outputs": [
    {
     "name": "stdin",
     "output_type": "stream",
     "text": [
      "please enter your name Charles\n",
      "enter your gender Male\n",
      "please provide your age 20\n",
      "please enter your height in meters 173\n",
      "please enter your weight in kg 77\n"
     ]
    },
    {
     "name": "stdout",
     "output_type": "stream",
     "text": [
      "name:Charles\n",
      "gender:Male\n",
      "age:20\n",
      "height:173.0\n",
      "weight:77.0\n",
      "\n",
      "None\n",
      "\n",
      "\n",
      "one of my behaviour is, i can talk\n",
      "None\n",
      "\n",
      "\n",
      "congratulations you are eligible to vote\n",
      "None\n",
      "severely underweight, see a doctor\n",
      "None\n",
      "you are eligible to play all sports\n",
      "None\n"
     ]
    }
   ],
   "source": [
    "class person:\n",
    "    def __init__(self,name,gender,age,height,weight): \n",
    "        self.name = name\n",
    "        self.gender = gender\n",
    "        self.age = age\n",
    "        self.height = height\n",
    "        self.weight = weight\n",
    "    def details(self):\n",
    "        print(f'''name:{self.name}\n",
    "gender:{self.gender}\n",
    "age:{self.age}\n",
    "height:{self.height}\n",
    "weight:{self.weight}\n",
    "''')\n",
    "    def talk(self):\n",
    "        print(f'one of my behaviour is, i can talk')\n",
    "    def vote(self):\n",
    "        if self.age >=18:\n",
    "              print('congratulations you are eligible to vote')\n",
    "        else:\n",
    "              print('you are not eligible to vote')\n",
    "    def bmi(self):\n",
    "        bmi_index = self.weight/self.height**2\n",
    "        if bmi_index <16:\n",
    "            print('severely underweight, see a doctor')\n",
    "        elif bmi_index >= 16 and bmi_index < 18.5:\n",
    "            print('underweight, improve your diet')\n",
    "        elif bmi_index >= 18.5 and bmi_index < 25:\n",
    "            print('you are healthy, keep up with the diet')\n",
    "        elif bmi_index >= 25 and bmi_index <30:\n",
    "            print('you are overweight, see a doctor')\n",
    "        elif bmi_index > 30:\n",
    "            print('you are severly overweighted, see a ddoctor urgently')\n",
    "        else:\n",
    "            print('see a doctor')\n",
    "    def sports(self):\n",
    "        if self.height == 162 and self.height <= 173:\n",
    "            print('you are eligible to play other sports but not basketball')\n",
    "        elif self.height == 174 and self.height <= 179:\n",
    "            print('you are eligible to play other sports but not american football and basketball')\n",
    "        else:\n",
    "            print('you are eligible to play all sports')\n",
    "firstperson = person(input('please enter your name'),input('enter your gender'),int(input('please provide your age')),float(input('please enter your height in meters')),float(input('please enter your weight in kg')))\n",
    "print(firstperson.details())\n",
    "print('\\n')\n",
    "print(firstperson.talk())\n",
    "print('\\n')\n",
    "print(firstperson.vote())\n",
    "print(firstperson.bmi())\n",
    "print(firstperson.sports())"
   ]
  },
  {
   "cell_type": "code",
   "execution_count": null,
   "metadata": {},
   "outputs": [],
   "source": []
  },
  {
   "cell_type": "code",
   "execution_count": null,
   "metadata": {},
   "outputs": [],
   "source": []
  }
 ],
 "metadata": {
  "kernelspec": {
   "display_name": "Python 3",
   "language": "python",
   "name": "python3"
  },
  "language_info": {
   "codemirror_mode": {
    "name": "ipython",
    "version": 3
   },
   "file_extension": ".py",
   "mimetype": "text/x-python",
   "name": "python",
   "nbconvert_exporter": "python",
   "pygments_lexer": "ipython3",
   "version": "3.8.3"
  }
 },
 "nbformat": 4,
 "nbformat_minor": 4
}
